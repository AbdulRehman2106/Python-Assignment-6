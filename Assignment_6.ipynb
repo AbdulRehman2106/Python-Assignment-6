{
  "nbformat": 4,
  "nbformat_minor": 0,
  "metadata": {
    "colab": {
      "provenance": [],
      "authorship_tag": "ABX9TyPYFkzfDY+ceNfEHS752Zns",
      "include_colab_link": true
    },
    "kernelspec": {
      "name": "python3",
      "display_name": "Python 3"
    },
    "language_info": {
      "name": "python"
    }
  },
  "cells": [
    {
      "cell_type": "markdown",
      "metadata": {
        "id": "view-in-github",
        "colab_type": "text"
      },
      "source": [
        "<a href=\"https://colab.research.google.com/github/AbdulRehman2106/Python-Assignment-6/blob/main/Assignment_6.ipynb\" target=\"_parent\"><img src=\"https://colab.research.google.com/assets/colab-badge.svg\" alt=\"Open In Colab\"/></a>"
      ]
    },
    {
      "cell_type": "code",
      "source": [
        "#                           1. Using Self\n",
        "\n",
        "class Student:\n",
        "    def __init__(self, name, marks):\n",
        "        self.name = name\n",
        "        self.marks = marks\n",
        "\n",
        "    def display(self):\n",
        "        print(f\"\\nStudent Name: {self.name}\")\n",
        "        print(f\"\\nStudent Marks: {self.marks}\")\n",
        "\n",
        "student1 = Student(\"Abdul Rehman\", 85)\n",
        "student1.display()\n"
      ],
      "metadata": {
        "colab": {
          "base_uri": "https://localhost:8080/"
        },
        "id": "Cc-0sz8z6sWf",
        "outputId": "e5800723-5882-435e-b128-7c7c1238f75c"
      },
      "execution_count": 2,
      "outputs": [
        {
          "output_type": "stream",
          "name": "stdout",
          "text": [
            "\n",
            "Student Name: Abdul Rehman\n",
            "\n",
            "Student Marks: 85\n"
          ]
        }
      ]
    },
    {
      "cell_type": "code",
      "source": [
        "#                           2. Using CLS\n",
        "\n",
        "\n",
        "class Counter:\n",
        "    count = 0\n",
        "\n",
        "    def __init__(self):\n",
        "        Counter.count += 1\n",
        "\n",
        "    @classmethod\n",
        "    def display_count(cls):\n",
        "        print(f\"\\nTotal Objects Created: {cls.count}\\n\")\n",
        "\n",
        "c1 = Counter()\n",
        "c2 = Counter()\n",
        "c3 = Counter()\n",
        "c4 = Counter()\n",
        "c5 = Counter()\n",
        "Counter.display_count()\n",
        "\n"
      ],
      "metadata": {
        "colab": {
          "base_uri": "https://localhost:8080/"
        },
        "id": "a-18G5hR7DNk",
        "outputId": "e8878c9e-f173-418a-9681-a65552f93126"
      },
      "execution_count": 4,
      "outputs": [
        {
          "output_type": "stream",
          "name": "stdout",
          "text": [
            "\n",
            "Total Objects Created: 5\n",
            "\n"
          ]
        }
      ]
    },
    {
      "cell_type": "code",
      "source": [
        "#                           3. Public Variables and Methods\n",
        "\n",
        "\n",
        "class Car:\n",
        "    def __init__(self, brand ):\n",
        "        self.brand = brand\n",
        "\n",
        "    def start(self):\n",
        "        print(f\"\\n{self.brand} Is starting...\\n\")\n",
        "\n",
        "my_car = Car(\"Lamborghini\")\n",
        "print(my_car.brand)\n",
        "my_car.start()\n",
        "\n"
      ],
      "metadata": {
        "colab": {
          "base_uri": "https://localhost:8080/"
        },
        "id": "IGs2vGOz74o0",
        "outputId": "2ae84680-8020-4bd3-fa56-d74f45dd5af9"
      },
      "execution_count": 5,
      "outputs": [
        {
          "output_type": "stream",
          "name": "stdout",
          "text": [
            "Lamborghini\n",
            "\n",
            "Lamborghini Is starting...\n",
            "\n"
          ]
        }
      ]
    },
    {
      "cell_type": "code",
      "source": [
        "#                           4. Class Variables and Class Methods\n",
        "\n",
        "\n",
        "class Bank:\n",
        "    bank_name = \"ABC Bank\"\n",
        "\n",
        "    @classmethod\n",
        "    def change_bank_name(cls,name):\n",
        "        cls.bank_name = name\n",
        "\n",
        "bank1 = Bank()\n",
        "bank2 = Bank()\n",
        "Bank.change_bank_name(\"Global Bank\")\n",
        "print(\"\\n\",bank1.bank_name)\n",
        "print(\"\\n\",bank2.bank_name)\n"
      ],
      "metadata": {
        "colab": {
          "base_uri": "https://localhost:8080/"
        },
        "id": "wdMYij_C7-r5",
        "outputId": "85494ce8-877c-48d9-d60e-73a043bc113d"
      },
      "execution_count": 7,
      "outputs": [
        {
          "output_type": "stream",
          "name": "stdout",
          "text": [
            "\n",
            " Global Bank\n",
            "\n",
            " Global Bank\n"
          ]
        }
      ]
    },
    {
      "cell_type": "code",
      "source": [
        "#                           5. Static Methods\n",
        "\n",
        "\n",
        "class MathUtlis:\n",
        "    @staticmethod\n",
        "    def add(a , b):\n",
        "        return a + b\n",
        "\n",
        "print(\"\\nSum: \", MathUtlis.add(25,10))\n"
      ],
      "metadata": {
        "colab": {
          "base_uri": "https://localhost:8080/"
        },
        "id": "ZAN5m8OP8G1_",
        "outputId": "3cafff84-61b6-4c67-97bd-914393e6cbca"
      },
      "execution_count": 9,
      "outputs": [
        {
          "output_type": "stream",
          "name": "stdout",
          "text": [
            "\n",
            "Sum:  35\n"
          ]
        }
      ]
    },
    {
      "cell_type": "code",
      "source": [
        "#                           6. Constructor and Destructors\n",
        "\n",
        "\n",
        "class Logger:\n",
        "    def __init__(self):\n",
        "        print(\"\\nLogger Object Created...\")\n",
        "\n",
        "    def __del__(self):\n",
        "        print(\"\\nLogger Objects Destroyed...\")\n",
        "\n",
        "log = Logger()\n",
        "del log\n"
      ],
      "metadata": {
        "colab": {
          "base_uri": "https://localhost:8080/"
        },
        "id": "E8PBQPwb8Q1k",
        "outputId": "ed092c6f-528f-4fdb-e669-7719581ae6ca"
      },
      "execution_count": 10,
      "outputs": [
        {
          "output_type": "stream",
          "name": "stdout",
          "text": [
            "\n",
            "Logger Object Created...\n",
            "\n",
            "Logger Objects Destroyed...\n"
          ]
        }
      ]
    },
    {
      "cell_type": "code",
      "source": [
        "#                           7. Access Modifiers: Public, Protected, Private\n",
        "\n",
        "\n",
        "class Employee:\n",
        "    def __init__(self,name,salery,ssn):\n",
        "        self.name = name\n",
        "        self._salery = salery\n",
        "        self.__ssn = ssn\n",
        "\n",
        "emp = Employee(\"Abdul Rehman\", 10000, 123-456-789)\n",
        "print(\"\\nPublic:\",emp.name)\n",
        "print(\"\\nProtected:\",emp._salery)\n",
        "\n",
        "try:\n",
        "    print(\"\\nPrivate:\", emp.__ssn)\n",
        "except AttributeError:\n",
        "    print(\"\\nPrivate: Cannot Access Directly\")\n"
      ],
      "metadata": {
        "colab": {
          "base_uri": "https://localhost:8080/"
        },
        "id": "bfIjDN4h8Trl",
        "outputId": "2af5fa85-03e9-4b0a-9121-2839cdf07bcb"
      },
      "execution_count": 11,
      "outputs": [
        {
          "output_type": "stream",
          "name": "stdout",
          "text": [
            "\n",
            "Public: Abdul Rehman\n",
            "\n",
            "Protected: 10000\n",
            "\n",
            "Private: Cannot Access Directly\n"
          ]
        }
      ]
    },
    {
      "cell_type": "code",
      "source": [
        "#                           8. The super() Function\n",
        "\n",
        "\n",
        "class Person:\n",
        "    def __init__(self, name):\n",
        "        self.name = name\n",
        "\n",
        "class Teacher(Person):\n",
        "    def __init__(self, name, subject):\n",
        "        super().__init__(name)\n",
        "        self.subject = subject\n",
        "\n",
        "t = Teacher(\"Sir Abdul Rehman\",\"Math\")\n",
        "print(\"\\n\",t.name,\"----\",t.subject)\n"
      ],
      "metadata": {
        "colab": {
          "base_uri": "https://localhost:8080/"
        },
        "id": "qBcvAlNr8zyc",
        "outputId": "c5eb3d28-8051-4afa-f881-95bbeecb8179"
      },
      "execution_count": 12,
      "outputs": [
        {
          "output_type": "stream",
          "name": "stdout",
          "text": [
            "\n",
            " Sir Abdul Rehman ---- Math\n"
          ]
        }
      ]
    },
    {
      "cell_type": "code",
      "source": [
        "#                           9. Abstract Classes and Methods\n",
        "\n",
        "\n",
        "from abc import ABC, abstractmethod\n",
        "\n",
        "class Shape(ABC):\n",
        "    @abstractmethod\n",
        "    def area(self):\n",
        "        pass\n",
        "\n",
        "class Rectangle(Shape):\n",
        "    def __init__(self, width, height):\n",
        "        self.width = width\n",
        "        self.height = height\n",
        "\n",
        "    def area(self):\n",
        "        return self.width * self.height\n",
        "\n",
        "r = Rectangle(5,7)\n",
        "print(\"\\nArea:\", r.area())\n"
      ],
      "metadata": {
        "colab": {
          "base_uri": "https://localhost:8080/"
        },
        "id": "knZLbEZQ84rY",
        "outputId": "405d3d69-8a53-4fd2-a350-00e8a8e1035d"
      },
      "execution_count": 13,
      "outputs": [
        {
          "output_type": "stream",
          "name": "stdout",
          "text": [
            "\n",
            "Area: 35\n"
          ]
        }
      ]
    },
    {
      "cell_type": "code",
      "source": [
        "#                           10. Instance Methods\n",
        "\n",
        "\n",
        "class Dog:\n",
        "    def __init__(self,name,breed):\n",
        "        self.name = name\n",
        "        self.breed = breed\n",
        "\n",
        "    def bark(self):\n",
        "        print(f\"\\n{self.name} Is Barking...\")\n",
        "\n",
        "dog = Dog(\"Tommy\", \"Labrador\")\n",
        "dog.bark()\n"
      ],
      "metadata": {
        "colab": {
          "base_uri": "https://localhost:8080/"
        },
        "id": "wM2J-v0S9EF8",
        "outputId": "b7e22479-c55d-4321-eef3-93bff34c25ed"
      },
      "execution_count": 14,
      "outputs": [
        {
          "output_type": "stream",
          "name": "stdout",
          "text": [
            "\n",
            "Tommy Is Barking...\n"
          ]
        }
      ]
    },
    {
      "cell_type": "code",
      "source": [
        "#                           11. Class Methods\n",
        "\n",
        "\n",
        "class Book:\n",
        "    total_books = 0\n",
        "\n",
        "    @classmethod\n",
        "    def increment_book_count(cls):\n",
        "        cls.total_books += 1\n",
        "\n",
        "Book.increment_book_count()\n",
        "Book.increment_book_count()\n",
        "print(\"\\nTotal Books: \", Book.total_books)\n"
      ],
      "metadata": {
        "colab": {
          "base_uri": "https://localhost:8080/"
        },
        "id": "FMa_pZKK9JjW",
        "outputId": "683598c5-a953-43a8-9609-7acae2159fcd"
      },
      "execution_count": 15,
      "outputs": [
        {
          "output_type": "stream",
          "name": "stdout",
          "text": [
            "\n",
            "Total Books:  2\n"
          ]
        }
      ]
    },
    {
      "cell_type": "code",
      "source": [
        "#                            12. Static Methods\n",
        "\n",
        "\n",
        "class TemperatureConverter:\n",
        "    @staticmethod\n",
        "    def celsius_to_fahrenheit(c):\n",
        "        return (c * 9/5) + 32\n",
        "\n",
        "print(\"\\nFahrenheit:\", TemperatureConverter.celsius_to_fahrenheit(37))\n"
      ],
      "metadata": {
        "colab": {
          "base_uri": "https://localhost:8080/"
        },
        "id": "3VPt599H9U_Y",
        "outputId": "b4461152-f644-45ff-cea7-45c73e6aad94"
      },
      "execution_count": 16,
      "outputs": [
        {
          "output_type": "stream",
          "name": "stdout",
          "text": [
            "\n",
            "Fahrenheit: 98.6\n"
          ]
        }
      ]
    },
    {
      "cell_type": "code",
      "source": [
        "#                            13. Composition\n",
        "\n",
        "class Engine:\n",
        "    def start(self):\n",
        "        print(\"\\n Engine Started..\")\n",
        "\n",
        "class CarWithEngine:\n",
        "    def __init__(self, engine):\n",
        "        self.engine = engine\n",
        "\n",
        "    def start_car(self):\n",
        "        self.engine.start()\n",
        "\n",
        "e = Engine()\n",
        "car = CarWithEngine(e)\n",
        "car.start_car()\n",
        ""
      ],
      "metadata": {
        "colab": {
          "base_uri": "https://localhost:8080/"
        },
        "id": "2ALM9Wqu9ahe",
        "outputId": "b2d7026a-6086-425f-efb6-be84af2135a7"
      },
      "execution_count": 17,
      "outputs": [
        {
          "output_type": "stream",
          "name": "stdout",
          "text": [
            "\n",
            " Engine Started..\n"
          ]
        }
      ]
    },
    {
      "cell_type": "code",
      "source": [
        "#                             14. Aggregation\n",
        "\n",
        "\n",
        "class Department:\n",
        "    def __init__(self, name, employee):\n",
        "        self.name = name\n",
        "        self.employee = employee\n",
        "\n",
        "class EmployeeForDept:\n",
        "    def __init__(self,name):\n",
        "        self.name = name\n",
        "\n",
        "emp = EmployeeForDept(\"Abdul Rehman\")\n",
        "dept = Department(\"HR\", emp)\n",
        "print(\"\\nDepartment:\", dept.name, \"\\nEmployee:\", dept.employee.name)\n"
      ],
      "metadata": {
        "colab": {
          "base_uri": "https://localhost:8080/"
        },
        "id": "vPophaRa97LP",
        "outputId": "a1ae2938-6d21-4051-fea7-aef65b911d82"
      },
      "execution_count": 18,
      "outputs": [
        {
          "output_type": "stream",
          "name": "stdout",
          "text": [
            "\n",
            "Department: HR \n",
            "Employee: Abdul Rehman\n"
          ]
        }
      ]
    },
    {
      "cell_type": "code",
      "source": [
        "#                              15. Method Resolution Order (MRO)\n",
        "\n",
        "\n",
        "class A:\n",
        "    def show(self):\n",
        "        print(\"A\")\n",
        "\n",
        "class B(A):\n",
        "    def show(self):\n",
        "        print(\"B\")\n",
        "\n",
        "class C(A):\n",
        "    def show(self):\n",
        "        print(\"C\")\n",
        "\n",
        "class D(B, C):\n",
        "    pass\n",
        "\n",
        "d = D()\n",
        "d.show()\n",
        "print(\"MRO:\",[cls.__name__ for cls in D.__mro__])\n",
        ""
      ],
      "metadata": {
        "colab": {
          "base_uri": "https://localhost:8080/"
        },
        "id": "85D_KQ4N-FvL",
        "outputId": "e31771b6-f6af-439e-e135-eada8e504554"
      },
      "execution_count": 19,
      "outputs": [
        {
          "output_type": "stream",
          "name": "stdout",
          "text": [
            "B\n",
            "MRO: ['D', 'B', 'C', 'A', 'object']\n"
          ]
        }
      ]
    },
    {
      "cell_type": "code",
      "source": [
        "#                               16. Function Decorators\n",
        "\n",
        "\n",
        "def log_function_call(func):\n",
        "    def wrapper():\n",
        "        print(\"\\nFunction Is Being Called\")\n",
        "        return func()\n",
        "    return wrapper\n",
        "\n",
        "@log_function_call\n",
        "def say_hello():\n",
        "    print(\"\\nHello Everyone!!\")\n",
        "\n",
        "say_hello()\n"
      ],
      "metadata": {
        "colab": {
          "base_uri": "https://localhost:8080/"
        },
        "id": "-EICpCrd-S56",
        "outputId": "83c4f68e-55a4-477f-8b92-b94a5b2d53d5"
      },
      "execution_count": 20,
      "outputs": [
        {
          "output_type": "stream",
          "name": "stdout",
          "text": [
            "\n",
            "Function Is Being Called\n",
            "\n",
            "Hello Everyone!!\n"
          ]
        }
      ]
    },
    {
      "cell_type": "code",
      "source": [
        "#                               17. Class Decorators\n",
        "\n",
        "\n",
        "def add_gretting(cls):\n",
        "    cls.greet = lambda self: \"\\nHello Form Decorator..!\"\n",
        "    return cls\n",
        "\n",
        "@add_gretting\n",
        "class PersonWithGreeting:\n",
        "    pass\n",
        "\n",
        "p = PersonWithGreeting()\n",
        "print(p.greet())\n"
      ],
      "metadata": {
        "colab": {
          "base_uri": "https://localhost:8080/"
        },
        "id": "3iMtqDfC-XPJ",
        "outputId": "9c7742f4-49b9-4b3c-dd28-8a4aff855b37"
      },
      "execution_count": 21,
      "outputs": [
        {
          "output_type": "stream",
          "name": "stdout",
          "text": [
            "\n",
            "Hello Form Decorator..!\n"
          ]
        }
      ]
    },
    {
      "cell_type": "code",
      "source": [
        "#                              18. Proporty Decorators\n",
        "\n",
        "\n",
        "class Product:\n",
        "    def __init__(self, price):\n",
        "        self._price = price\n",
        "\n",
        "    @property\n",
        "    def price(self):\n",
        "        return self._price\n",
        "\n",
        "    @price.setter\n",
        "    def price(self, value):\n",
        "        self._price = value\n",
        "\n",
        "    @price.deleter\n",
        "    def price(self):\n",
        "        del self._price\n",
        "\n",
        "prod = Product(100)\n",
        "print(\"\\nPrice:\", prod.price)\n",
        "prod.price = 200\n",
        "print(\"\\nUpdated Price:\", prod.price)\n",
        "del prod.price\n"
      ],
      "metadata": {
        "colab": {
          "base_uri": "https://localhost:8080/"
        },
        "id": "nMdLxGpR-aKR",
        "outputId": "9bc71896-9bc0-4947-cd91-cbba67d2cc00"
      },
      "execution_count": 22,
      "outputs": [
        {
          "output_type": "stream",
          "name": "stdout",
          "text": [
            "\n",
            "Price: 100\n",
            "\n",
            "Updated Price: 200\n"
          ]
        }
      ]
    },
    {
      "cell_type": "code",
      "source": [
        "#                               19. __call__ and callable\n",
        "\n",
        "\n",
        "class Multiplier:\n",
        "    def __init__(self, factor):\n",
        "        self.factor = factor\n",
        "\n",
        "    def __call__(self, value):\n",
        "        return value * self.factor\n",
        "\n",
        "m = Multiplier(10)\n",
        "print(\"\\nIs Callable: \", callable(m))\n",
        "print(\"\\nCall Result: \", m(15))\n"
      ],
      "metadata": {
        "colab": {
          "base_uri": "https://localhost:8080/"
        },
        "id": "4ZomVVKQ-doH",
        "outputId": "137bb7db-d1f7-4d06-b7ab-00524008a16d"
      },
      "execution_count": 23,
      "outputs": [
        {
          "output_type": "stream",
          "name": "stdout",
          "text": [
            "\n",
            "Is Callable:  True\n",
            "\n",
            "Call Result:  150\n"
          ]
        }
      ]
    },
    {
      "cell_type": "code",
      "source": [
        "#                               20. Custom Exception\n",
        "\n",
        "\n",
        "class InvalidAgeError(Exception):\n",
        "    pass\n",
        "\n",
        "def check_age(age):\n",
        "    if age < 18:\n",
        "        raise InvalidAgeError(\"Age Must Be Least 18+...\")\n",
        "    print(\"\\nAge Is Valid\")\n",
        "\n",
        "try:\n",
        "    check_age(17)\n",
        "except InvalidAgeError as e:\n",
        "    print(\"\\nError: \", e)\n"
      ],
      "metadata": {
        "colab": {
          "base_uri": "https://localhost:8080/"
        },
        "id": "8pZONxZg-hfC",
        "outputId": "9216aece-ac02-47b1-fa35-20049eabf7a3"
      },
      "execution_count": 25,
      "outputs": [
        {
          "output_type": "stream",
          "name": "stdout",
          "text": [
            "\n",
            "Error:  Age Must Be Least 18+...\n"
          ]
        }
      ]
    },
    {
      "cell_type": "code",
      "source": [
        "\n",
        "#                               21. Custom Iterable\n",
        "\n",
        "\n",
        "class Countdown:\n",
        "    def __init__(self, start):\n",
        "        self.current = start\n",
        "\n",
        "    def __iter__(self):\n",
        "        return self\n",
        "\n",
        "    def __next__(self):\n",
        "        if self.current < 0:\n",
        "            raise StopIteration\n",
        "        val = self.current\n",
        "        self.current -= 1\n",
        "        return val\n",
        "\n",
        "for num in Countdown(10):\n",
        "    print(\"\\n\",num)\n",
        "\n",
        ""
      ],
      "metadata": {
        "colab": {
          "base_uri": "https://localhost:8080/"
        },
        "id": "OuBFIB4t-ojB",
        "outputId": "93328809-1944-4306-9122-395c1dd35526"
      },
      "execution_count": 26,
      "outputs": [
        {
          "output_type": "stream",
          "name": "stdout",
          "text": [
            "\n",
            " 10\n",
            "\n",
            " 9\n",
            "\n",
            " 8\n",
            "\n",
            " 7\n",
            "\n",
            " 6\n",
            "\n",
            " 5\n",
            "\n",
            " 4\n",
            "\n",
            " 3\n",
            "\n",
            " 2\n",
            "\n",
            " 1\n",
            "\n",
            " 0\n"
          ]
        }
      ]
    }
  ]
}